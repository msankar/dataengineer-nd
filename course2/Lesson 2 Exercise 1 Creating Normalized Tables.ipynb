{
 "cells": [
  {
   "cell_type": "markdown",
   "metadata": {},
   "source": [
    "# Lesson 2 Exercise 1: Creating Normalized Tables\n",
    "\n",
    "<img src=\"images/postgresSQLlogo.png\" width=\"250\" height=\"250\">"
   ]
  },
  {
   "cell_type": "markdown",
   "metadata": {},
   "source": [
    "## In this exercise we are going to walk through the basics of modeling data in normalized form. We will create tables in PostgreSQL, insert rows of data, and do simple JOIN SQL queries to show how these mutliple tables can work together. \n",
    "\n",
    "#### Where you see ##### you will need to fill in code.\n",
    "\n",
    "Note: __Do not__ click the blue Preview button in the lower task bar"
   ]
  },
  {
   "cell_type": "markdown",
   "metadata": {},
   "source": [
    "#### Import the library \n",
    "Note: An error might popup after this command has exectuted. If it does, read it carefully before ignoring. "
   ]
  },
  {
   "cell_type": "code",
   "execution_count": 1,
   "metadata": {},
   "outputs": [],
   "source": [
    "import psycopg2"
   ]
  },
  {
   "cell_type": "markdown",
   "metadata": {},
   "source": [
    "__Create a connection to the database, get a cursor, and set autocommit to true)__"
   ]
  },
  {
   "cell_type": "code",
   "execution_count": 3,
   "metadata": {},
   "outputs": [],
   "source": [
    "try: \n",
    "    conn = psycopg2.connect(\"host=127.0.0.1 dbname=studentdb user=student password=student\")\n",
    "except psycopg2.Error as e: \n",
    "    print(\"Error: Could not make connection to the Postgres database\")\n",
    "    print(e)\n",
    "try: \n",
    "    cur = conn.cursor()\n",
    "except psycopg2.Error as e: \n",
    "    print(\"Error: Could not get cursor to the Database\")\n",
    "    print(e)\n",
    "conn.set_session(autocommit=True)"
   ]
  },
  {
   "cell_type": "markdown",
   "metadata": {},
   "source": [
    "#### Let's imagine we have a table called Music Store. \n",
    "\n",
    "`Table Name: music_store\n",
    "column 0: Transaction Id\n",
    "column 1: Customer Name\n",
    "column 2: Cashier Name\n",
    "column 3: Year \n",
    "column 4: Albums Purchased`\n",
    "\n",
    "\n",
    "## Now to translate this information into a CREATE Table Statement and insert the data\n",
    "\n",
    "<img src=\"images/table12.png\" width=\"650\" height=\"650\">\n",
    "\n",
    "\n"
   ]
  },
  {
   "cell_type": "code",
   "execution_count": 4,
   "metadata": {},
   "outputs": [
    {
     "name": "stdout",
     "output_type": "stream",
     "text": [
      "(1, 'Amanda', 'Sam', 2000, ['Rubber Soul', 'Let it Be'])\n",
      "(2, 'Toby', 'Sam', 2000, ['My generation'])\n",
      "(3, 'Max', 'Bob', 2018, ['Meet the Beatles', 'Help!'])\n"
     ]
    }
   ],
   "source": [
    "# TO-DO: Add the CREATE Table Statement and INSERT statements to add the data in the table\n",
    "\n",
    "try: \n",
    "    cur.execute(\"CREATE TABLE IF NOT EXISTS music_store (txn_id INT, cust_name VARCHAR, cash_name VARCHAR, year INT, albums TEXT[] )\")\n",
    "except psycopg2.Error as e: \n",
    "    print(\"Error: Issue creating table\")\n",
    "    print (e)\n",
    "    \n",
    "try: \n",
    "    cur.execute(\"INSERT INTO music_store (txn_id, cust_name, cash_name, year, albums) \\\n",
    "                 VALUES (%s, %s, %s, %s, %s)\", \\\n",
    "                 (1, \"Amanda\", \"Sam\", 2000, [\"Rubber Soul\", \"Let it Be\"]))\n",
    "except psycopg2.Error as e: \n",
    "    print(\"Error: Inserting Rows\")\n",
    "    print (e)\n",
    "    \n",
    "try: \n",
    "    cur.execute(\"INSERT INTO music_store (txn_id, cust_name, cash_name, year, albums) \\\n",
    "                 VALUES (%s, %s, %s, %s, %s)\", \\\n",
    "                  (2, \"Toby\", \"Sam\", 2000, [\"My generation\"]))\n",
    "except psycopg2.Error as e: \n",
    "    print(\"Error: Inserting Rows\")\n",
    "    print (e)\n",
    "    \n",
    "try: \n",
    "    cur.execute(\"INSERT INTO music_store (txn_id, cust_name, cash_name, year, albums) \\\n",
    "                 VALUES (%s, %s, %s, %s, %s)\", \\\n",
    "                  (3, \"Max\", \"Bob\", 2018, [\"Meet the Beatles\", \"Help!\"]))\n",
    "except psycopg2.Error as e: \n",
    "    print(\"Error: Inserting Rows\")\n",
    "    print (e)\n",
    "    \n",
    "    \n",
    "try: \n",
    "    cur.execute(\"SELECT * FROM music_store;\")\n",
    "except psycopg2.Error as e: \n",
    "    print(\"Error: select *\")\n",
    "    print (e)\n",
    "\n",
    "row = cur.fetchone()\n",
    "while row:\n",
    "   print(row)\n",
    "   row = cur.fetchone()"
   ]
  },
  {
   "cell_type": "markdown",
   "metadata": {},
   "source": [
    "#### Moving to 1st Normal Form (1NF)\n",
    "\n",
    "### TO-DO: This data has not been normalized. To get this data into 1st normal form, you need to remove any collections or list of data and break up the list of songs into individual rows. \n"
   ]
  },
  {
   "cell_type": "code",
   "execution_count": 7,
   "metadata": {},
   "outputs": [
    {
     "name": "stdout",
     "output_type": "stream",
     "text": [
      "(1, 'Amanda', 'Sam', 2000, 'Rubber Soul')\n",
      "(1, 'Amanda', 'Sam', 2000, 'Let it Be')\n",
      "(2, 'Toby', 'Sam', 2000, 'My generation')\n",
      "(3, 'Max', 'Bob', 2018, 'Meet the Beatles')\n",
      "(3, 'Max', 'Bob', 2018, 'Help!')\n"
     ]
    }
   ],
   "source": [
    "## TO-DO: Complete the CREATE table statements and INSERT statements\n",
    "\n",
    "try: \n",
    "    cur.execute(\"CREATE TABLE IF NOT EXISTS music_store2 (txn_id INT, cust_name VARCHAR, cash_name VARCHAR, year INT, album VARCHAR)\")\n",
    "except psycopg2.Error as e: \n",
    "    print(\"Error: Issue creating table\")\n",
    "    print (e)\n",
    "    \n",
    "try: \n",
    "    cur.execute(\"INSERT INTO music_store2 (txn_id, cust_name, cash_name, year, album) \\\n",
    "                 VALUES (%s, %s, %s, %s, %s)\", \\\n",
    "                 (1, \"Amanda\", \"Sam\", 2000, \"Rubber Soul\"))\n",
    "except psycopg2.Error as e: \n",
    "    print(\"Error: Inserting Rows\")\n",
    "    print (e)\n",
    "\n",
    "try: \n",
    "    cur.execute(\"INSERT INTO music_store2 (txn_id, cust_name, cash_name, year, album) \\\n",
    "                 VALUES (%s, %s, %s, %s, %s)\", \\\n",
    "                 (1, \"Amanda\", \"Sam\", 2000, \"Let it Be\"))\n",
    "except psycopg2.Error as e: \n",
    "    print(\"Error: Inserting Rows\")\n",
    "    print (e)\n",
    "    \n",
    "try: \n",
    "    cur.execute(\"INSERT INTO music_store2 (txn_id, cust_name, cash_name, year, album) \\\n",
    "                 VALUES (%s, %s, %s, %s, %s)\", \\\n",
    "                 (2, \"Toby\", \"Sam\", 2000,\"My generation\"))\n",
    "except psycopg2.Error as e: \n",
    "    print(\"Error: Inserting Rows\")\n",
    "    print (e)\n",
    "    \n",
    "try: \n",
    "    cur.execute(\"INSERT INTO music_store2 (txn_id, cust_name, cash_name, year, album) \\\n",
    "                 VALUES (%s, %s, %s, %s, %s)\", \\\n",
    "                 (3, \"Max\", \"Bob\", 2018, \"Meet the Beatles\"))\n",
    "except psycopg2.Error as e: \n",
    "    print(\"Error: Inserting Rows\")\n",
    "    print (e)\n",
    "    \n",
    "try: \n",
    "    cur.execute(\"INSERT INTO music_store2 (txn_id, cust_name, cash_name, year, album) \\\n",
    "                 VALUES (%s, %s, %s, %s, %s)\", \\\n",
    "                 (3, \"Max\", \"Bob\", 2018, \"Help!\"))\n",
    "except psycopg2.Error as e: \n",
    "    print(\"Error: Inserting Rows\")\n",
    "    print (e)\n",
    "    \n",
    "try: \n",
    "    cur.execute(\"SELECT * FROM music_store2;\")\n",
    "except psycopg2.Error as e: \n",
    "    print(\"Error: select *\")\n",
    "    print (e)\n",
    "\n",
    "row = cur.fetchone()\n",
    "while row:\n",
    "   print(row)\n",
    "   row = cur.fetchone()"
   ]
  },
  {
   "cell_type": "markdown",
   "metadata": {},
   "source": [
    "#### Moving to 2nd Normal Form (2NF)\n",
    "You have now moved the data into 1NF, which is the first step in moving to 2nd Normal Form. The table is not yet in 2nd Normal Form. While each of the records in the table is unique, our Primary key (transaction id) is not unique. \n",
    "\n",
    "### TO-DO: Break up the table into two tables, transactions and albums sold. \n"
   ]
  },
  {
   "cell_type": "code",
   "execution_count": 9,
   "metadata": {
    "scrolled": true
   },
   "outputs": [
    {
     "name": "stdout",
     "output_type": "stream",
     "text": [
      "Table: transactions\n",
      "\n",
      "(1, 'Amanda', 'Sam', 2000)\n",
      "(2, 'Toby', 'Sam', 2000)\n",
      "(3, 'Max', 'Bob', 2018)\n",
      "(1, 'Amanda', 'Sam', 2000)\n",
      "(2, 'Toby', 'Sam', 2000)\n",
      "(3, 'Max', 'Bob', 2018)\n",
      "\n",
      "Table: albums_sold\n",
      "\n",
      "(1, 'Rubber Soul', 1)\n",
      "(2, 'Let it Be', 1)\n",
      "(3, 'My generation', 2)\n",
      "(4, 'Meet the Beatles', 3)\n",
      "(5, 'Help!', 3)\n"
     ]
    }
   ],
   "source": [
    "try: \n",
    "    cur.execute(\"CREATE TABLE IF NOT EXISTS transactions (txn_id INT, cust_name VARCHAR, cash_name VARCHAR, year INT);\")\n",
    "except psycopg2.Error as e: \n",
    "    print(\"Error: Issue creating table\")\n",
    "    print (e)\n",
    "\n",
    "try: \n",
    "    cur.execute(\"CREATE TABLE IF NOT EXISTS albums_sold (album_id INT, album_name VARCHAR, txn_id int);\")\n",
    "except psycopg2.Error as e: \n",
    "    print(\"Error: Issue creating table\")\n",
    "    print (e)\n",
    "    \n",
    "try: \n",
    "    cur.execute(\"INSERT INTO transactions (txn_id, cust_name, cash_name, year) \\\n",
    "                 VALUES (%s, %s, %s, %s)\", \\\n",
    "                 (1, \"Amanda\", \"Sam\", 2000))\n",
    "except psycopg2.Error as e: \n",
    "    print(\"Error: Inserting Rows\")\n",
    "    print (e)\n",
    "\n",
    "try: \n",
    "    cur.execute(\"INSERT INTO transactions (txn_id, cust_name, cash_name, year) \\\n",
    "                 VALUES (%s, %s, %s, %s)\", \\\n",
    "                 (2, \"Toby\", \"Sam\", 2000))\n",
    "except psycopg2.Error as e: \n",
    "    print(\"Error: Inserting Rows\")\n",
    "    print (e)\n",
    "    \n",
    "try: \n",
    "    cur.execute(\"INSERT INTO transactions (txn_id, cust_name, cash_name, year) \\\n",
    "                 VALUES (%s, %s, %s, %s)\", \\\n",
    "                 (3, \"Max\", \"Bob\", 2018))\n",
    "except psycopg2.Error as e: \n",
    "    print(\"Error: Inserting Rows\")\n",
    "    print (e)\n",
    "\n",
    "try: \n",
    "    cur.execute(\"INSERT INTO albums_sold (album_id, album_name, txn_id) \\\n",
    "                 VALUES (%s, %s, %s)\", \\\n",
    "                 (1, \"Rubber Soul\", 1))\n",
    "except psycopg2.Error as e: \n",
    "    print(\"Error: Inserting Rows\")\n",
    "    print (e)\n",
    "\n",
    "try: \n",
    "    cur.execute(\"INSERT INTO albums_sold (album_id, album_name, txn_id ) \\\n",
    "                 VALUES (%s, %s, %s)\", \\\n",
    "                 (2, \"Let it Be\", 1))\n",
    "except psycopg2.Error as e: \n",
    "    print(\"Error: Inserting Rows\")\n",
    "    print (e)\n",
    "    \n",
    "try: \n",
    "    cur.execute(\"INSERT INTO albums_sold (album_id, album_name, txn_id) \\\n",
    "                 VALUES (%s, %s, %s)\", \\\n",
    "                 (3,\"My generation\" ,2))\n",
    "except psycopg2.Error as e: \n",
    "    print(\"Error: Inserting Rows\")\n",
    "    print (e)\n",
    "    \n",
    "try: \n",
    "    cur.execute(\"INSERT INTO albums_sold (album_id, album_name, txn_id) \\\n",
    "                 VALUES (%s, %s, %s)\", \\\n",
    "                 (4,\"Meet the Beatles\",3))\n",
    "except psycopg2.Error as e: \n",
    "    print(\"Error: Inserting Rows\")\n",
    "    print (e)\n",
    "\n",
    "try: \n",
    "    cur.execute(\"INSERT INTO albums_sold (album_id, album_name, txn_id) \\\n",
    "                 VALUES (%s, %s, %s)\", \\\n",
    "                 (5,\"Help!\",3))\n",
    "except psycopg2.Error as e: \n",
    "    print(\"Error: Inserting Rows\")\n",
    "    print (e)\n",
    "\n",
    "print(\"Table: transactions\\n\")\n",
    "try: \n",
    "    cur.execute(\"SELECT * FROM transactions;\")\n",
    "except psycopg2.Error as e: \n",
    "    print(\"Error: select *\")\n",
    "    print (e)\n",
    "\n",
    "row = cur.fetchone()\n",
    "while row:\n",
    "   print(row)\n",
    "   row = cur.fetchone()\n",
    "\n",
    "print(\"\\nTable: albums_sold\\n\")\n",
    "try: \n",
    "    cur.execute(\"SELECT * FROM albums_sold;\")\n",
    "except psycopg2.Error as e: \n",
    "    print(\"Error: select *\")\n",
    "    print (e)\n",
    "row = cur.fetchone()\n",
    "while row:\n",
    "   print(row)\n",
    "   row = cur.fetchone()"
   ]
  },
  {
   "cell_type": "markdown",
   "metadata": {},
   "source": [
    "### TO-DO: Do a `JOIN` on these tables to get all the information in the original first Table. "
   ]
  },
  {
   "cell_type": "code",
   "execution_count": 10,
   "metadata": {},
   "outputs": [
    {
     "name": "stdout",
     "output_type": "stream",
     "text": [
      "(1, 'Amanda', 'Sam', 2000, 1, 'Rubber Soul', 1)\n",
      "(1, 'Amanda', 'Sam', 2000, 2, 'Let it Be', 1)\n",
      "(1, 'Amanda', 'Sam', 2000, 1, 'Rubber Soul', 1)\n",
      "(1, 'Amanda', 'Sam', 2000, 2, 'Let it Be', 1)\n",
      "(2, 'Toby', 'Sam', 2000, 3, 'My generation', 2)\n",
      "(2, 'Toby', 'Sam', 2000, 3, 'My generation', 2)\n",
      "(3, 'Max', 'Bob', 2018, 4, 'Meet the Beatles', 3)\n",
      "(3, 'Max', 'Bob', 2018, 5, 'Help!', 3)\n",
      "(3, 'Max', 'Bob', 2018, 4, 'Meet the Beatles', 3)\n",
      "(3, 'Max', 'Bob', 2018, 5, 'Help!', 3)\n"
     ]
    }
   ],
   "source": [
    "## TO-DO: Complete the join on the transactions and album_sold tables\n",
    "\n",
    "\n",
    "try: \n",
    "    cur.execute(\"SELECT * FROM transactions as t JOIN albums_sold as a  ON t.txn_id = a.txn_id ;\")\n",
    "except psycopg2.Error as e: \n",
    "    print(\"Error: select *\")\n",
    "    print (e)\n",
    "\n",
    "row = cur.fetchone()\n",
    "while row:\n",
    "   print(row)\n",
    "   row = cur.fetchone()\n"
   ]
  },
  {
   "cell_type": "markdown",
   "metadata": {},
   "source": [
    "#### Moving to 3rd Normal Form (3NF)\n",
    "Check our table for any transitive dependencies. \n",
    "_HINT:_ Check the table for any transitive dependencies. _Transactions_ can remove _Cashier Name_ to its own table, called _Employees_, which will leave us with 3 tables. \n",
    "\n",
    "\n",
    "### TO-DO: Create the third table named *employees* to move to 3rd NF. \n"
   ]
  },
  {
   "cell_type": "code",
   "execution_count": 11,
   "metadata": {},
   "outputs": [
    {
     "name": "stdout",
     "output_type": "stream",
     "text": [
      "Table: transactions2\n",
      "\n",
      "(1, 'Amanda', 1, 2000)\n",
      "(2, 'Toby', 1, 2000)\n",
      "(3, 'Max', 2, 2018)\n",
      "\n",
      "Table: albums_sold\n",
      "\n",
      "(1, 'Rubber Soul', 1)\n",
      "(2, 'Let it Be', 1)\n",
      "(3, 'My generation', 2)\n",
      "(4, 'Meet the Beatles', 3)\n",
      "(5, 'Help!', 3)\n",
      "\n",
      "Table: employees\n",
      "\n",
      "(1, 'Sam')\n",
      "(2, 'Bob')\n"
     ]
    }
   ],
   "source": [
    "\n",
    "\n",
    "try: \n",
    "    cur.execute(\"CREATE TABLE IF NOT EXISTS transactions2 (txn_id int, cust_name varchar, emp_id int, year int );\")\n",
    "except psycopg2.Error as e: \n",
    "    print(\"Error: Issue creating table\")\n",
    "    print (e)\n",
    "\n",
    "try: \n",
    "    cur.execute(\"CREATE TABLE IF NOT EXISTS employees (emp_id int, emp_name varchar);\")\n",
    "except psycopg2.Error as e: \n",
    "    print(\"Error: Issue creating table\")\n",
    "    print (e)\n",
    "\n",
    "try: \n",
    "    cur.execute(\"INSERT INTO transactions2 (txn_id, cust_name, emp_id, year) \\\n",
    "                 VALUES (%s, %s, %s, %s)\", \\\n",
    "                 (1, \"Amanda\", 1, 2000))\n",
    "except psycopg2.Error as e: \n",
    "    print(\"Error: Inserting Rows\")\n",
    "    print (e)\n",
    "\n",
    "try: \n",
    "    cur.execute(\"INSERT INTO transactions2 (txn_id, cust_name, emp_id, year) \\\n",
    "                 VALUES (%s, %s, %s, %s)\", \\\n",
    "                 (2, \"Toby\", 1, 2000))\n",
    "except psycopg2.Error as e: \n",
    "    print(\"Error: Inserting Rows\")\n",
    "    print (e)\n",
    "    \n",
    "try: \n",
    "    cur.execute(\"INSERT INTO transactions2 (txn_id, cust_name, emp_id, year) \\\n",
    "                 VALUES (%s, %s, %s, %s)\", \\\n",
    "                 (3, \"Max\", 2, 2018))\n",
    "except psycopg2.Error as e: \n",
    "    print(\"Error: Inserting Rows\")\n",
    "    print (e)\n",
    "\n",
    "try: \n",
    "    cur.execute(\"INSERT INTO employees (emp_id, emp_name) \\\n",
    "                 VALUES (%s, %s)\", \\\n",
    "                 (1, \"Sam\"))\n",
    "except psycopg2.Error as e: \n",
    "    print(\"Error: Inserting Rows\")\n",
    "    print (e)\n",
    "\n",
    "try: \n",
    "    cur.execute(\"INSERT INTO employees (emp_id, emp_name) \\\n",
    "                 VALUES (%s, %s)\", \\\n",
    "                 (2, \"Bob\"))\n",
    "except psycopg2.Error as e: \n",
    "    print(\"Error: Inserting Rows\")\n",
    "    print (e)    \n",
    "\n",
    "print(\"Table: transactions2\\n\")\n",
    "try: \n",
    "    cur.execute(\"SELECT * FROM transactions2;\")\n",
    "except psycopg2.Error as e: \n",
    "    print(\"Error: select *\")\n",
    "    print (e)\n",
    "\n",
    "row = cur.fetchone()\n",
    "while row:\n",
    "   print(row)\n",
    "   row = cur.fetchone()\n",
    "\n",
    "print(\"\\nTable: albums_sold\\n\")\n",
    "try: \n",
    "    cur.execute(\"SELECT * FROM albums_sold;\")\n",
    "except psycopg2.Error as e: \n",
    "    print(\"Error: select *\")\n",
    "    print (e)\n",
    "\n",
    "row = cur.fetchone()\n",
    "while row:\n",
    "   print(row)\n",
    "   row = cur.fetchone()\n",
    "\n",
    "print(\"\\nTable: employees\\n\")\n",
    "try: \n",
    "    cur.execute(\"SELECT * FROM employees;\")\n",
    "except psycopg2.Error as e: \n",
    "    print(\"Error: select *\")\n",
    "    print (e)\n",
    "\n",
    "row = cur.fetchone()\n",
    "while row:\n",
    "   print(row)\n",
    "   row = cur.fetchone()"
   ]
  },
  {
   "cell_type": "markdown",
   "metadata": {},
   "source": [
    "### TO-DO: Complete the last two `JOIN` on these 3 tables so we can get all the information we had in our first Table. "
   ]
  },
  {
   "cell_type": "code",
   "execution_count": 12,
   "metadata": {},
   "outputs": [
    {
     "name": "stdout",
     "output_type": "stream",
     "text": [
      "(1, 'Amanda', 1, 2000, 1, 'Rubber Soul', 1, 1, 'Sam')\n",
      "(1, 'Amanda', 1, 2000, 2, 'Let it Be', 1, 1, 'Sam')\n",
      "(2, 'Toby', 1, 2000, 3, 'My generation', 2, 1, 'Sam')\n",
      "(3, 'Max', 2, 2018, 4, 'Meet the Beatles', 3, 2, 'Bob')\n",
      "(3, 'Max', 2, 2018, 5, 'Help!', 3, 2, 'Bob')\n"
     ]
    }
   ],
   "source": [
    "try: \n",
    "    cur.execute(\"SELECT * FROM (transactions2 as t JOIN albums_sold as a ON \\\n",
    "                               t.txn_id = a.txn_id) JOIN \\\n",
    "                               employees as e ON e.emp_id= t.emp_id ;\")\n",
    "except psycopg2.Error as e: \n",
    "    print(\"Error: select *\")\n",
    "    print (e)\n",
    "\n",
    "row = cur.fetchone()\n",
    "while row:\n",
    "   print(row)\n",
    "   row = cur.fetchone()"
   ]
  },
  {
   "cell_type": "markdown",
   "metadata": {},
   "source": [
    "### Your output for the above cell should be:\n",
    "\n",
    "(1, 'Amanda', 1, 2000, 1, 1, 'Rubber Soul', 1, 'Sam')<br>\n",
    "(1, 'Amanda', 1, 2000, 2, 1, 'Let it Be', 1, 'Sam')<br>\n",
    "(2, 'Toby', 1, 2000, 3, 2, 'My Generation', 1, 'Sam')<br>\n",
    "(3, 'Max', 2, 2018, 4, 3, 'Meet the Beatles', 2, 'Bob')<br>\n",
    "(3, 'Max', 2, 2018, 5, 3, 'Help!', 2, 'Bob')<br>\n"
   ]
  },
  {
   "cell_type": "markdown",
   "metadata": {},
   "source": [
    "### Awesome work!! You have Normalized the dataset! "
   ]
  },
  {
   "cell_type": "markdown",
   "metadata": {},
   "source": [
    "### And finally close your cursor and connection. "
   ]
  },
  {
   "cell_type": "code",
   "execution_count": 13,
   "metadata": {},
   "outputs": [],
   "source": [
    "try: \n",
    "    cur.execute(\"DROP table music_store\")\n",
    "except psycopg2.Error as e: \n",
    "    print(\"Error: Dropping table\")\n",
    "    print (e)\n",
    "try: \n",
    "    cur.execute(\"DROP table music_store2\")\n",
    "except psycopg2.Error as e: \n",
    "    print(\"Error: Dropping table\")\n",
    "    print (e)\n",
    "try: \n",
    "    cur.execute(\"DROP table albums_sold\")\n",
    "except psycopg2.Error as e: \n",
    "    print(\"Error: Dropping table\")\n",
    "    print (e)\n",
    "try: \n",
    "    cur.execute(\"DROP table employees\")\n",
    "except psycopg2.Error as e: \n",
    "    print(\"Error: Dropping table\")\n",
    "    print (e)\n",
    "try: \n",
    "    cur.execute(\"DROP table transactions\")\n",
    "except psycopg2.Error as e: \n",
    "    print(\"Error: Dropping table\")\n",
    "    print (e)\n",
    "try: \n",
    "    cur.execute(\"DROP table transactions2\")\n",
    "except psycopg2.Error as e: \n",
    "    print(\"Error: Dropping table\")\n",
    "    print (e)"
   ]
  },
  {
   "cell_type": "markdown",
   "metadata": {},
   "source": [
    "### And finally close your cursor and connection. "
   ]
  },
  {
   "cell_type": "code",
   "execution_count": 14,
   "metadata": {},
   "outputs": [],
   "source": [
    "cur.close()\n",
    "conn.close()"
   ]
  },
  {
   "cell_type": "code",
   "execution_count": null,
   "metadata": {},
   "outputs": [],
   "source": []
  }
 ],
 "metadata": {
  "kernelspec": {
   "display_name": "Python 3",
   "language": "python",
   "name": "python3"
  },
  "language_info": {
   "codemirror_mode": {
    "name": "ipython",
    "version": 3
   },
   "file_extension": ".py",
   "mimetype": "text/x-python",
   "name": "python",
   "nbconvert_exporter": "python",
   "pygments_lexer": "ipython3",
   "version": "3.6.3"
  }
 },
 "nbformat": 4,
 "nbformat_minor": 2
}
